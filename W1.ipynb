{
  "nbformat": 4,
  "nbformat_minor": 0,
  "metadata": {
    "colab": {
      "provenance": [],
      "gpuType": "T4",
      "authorship_tag": "ABX9TyN8rpb5GEy/fxhrUD0tLRg9",
      "include_colab_link": true
    },
    "kernelspec": {
      "name": "python3",
      "display_name": "Python 3"
    },
    "language_info": {
      "name": "python"
    },
    "accelerator": "GPU"
  },
  "cells": [
    {
      "cell_type": "markdown",
      "metadata": {
        "id": "view-in-github",
        "colab_type": "text"
      },
      "source": [
        "<a href=\"https://colab.research.google.com/github/Oliz888/Deep-Learning/blob/main/W1.ipynb\" target=\"_parent\"><img src=\"https://colab.research.google.com/assets/colab-badge.svg\" alt=\"Open In Colab\"/></a>"
      ]
    },
    {
      "cell_type": "markdown",
      "source": [
        "# Deep Learning Week 1"
      ],
      "metadata": {
        "id": "ZvKFnwsPlJb6"
      }
    },
    {
      "cell_type": "markdown",
      "source": [
        "## Environment configuration"
      ],
      "metadata": {
        "id": "h8-uGclSpwCI"
      }
    },
    {
      "cell_type": "code",
      "source": [
        "# TENSORFLOW\n",
        "import tensorflow as tf\n",
        "print(\"TENSORFLOW VERSION:\",tf.__version__)\n",
        "print(tf.reduce_sum(tf.random.normal([1000, 1000])))\n",
        "\n",
        "# PYTORCH\n",
        "import torch\n",
        "print(\"PYTORCH VERSION:\",torch.__version__)\n",
        "x = torch.rand(5, 3)\n",
        "print(x)\n",
        "\n",
        "# KERAS\n",
        "import keras;\n",
        "print(\"KERAS VERSION:\",keras.__version__)"
      ],
      "metadata": {
        "colab": {
          "base_uri": "https://localhost:8080/"
        },
        "id": "4WoPb6YRlzJX",
        "outputId": "4763b64b-a228-4da9-a63d-12d73a030711"
      },
      "execution_count": 1,
      "outputs": [
        {
          "output_type": "stream",
          "name": "stdout",
          "text": [
            "TENSORFLOW VERSION: 2.15.0\n",
            "tf.Tensor(-792.73645, shape=(), dtype=float32)\n",
            "PYTORCH VERSION: 2.3.0+cu121\n",
            "tensor([[0.7446, 0.4824, 0.3405],\n",
            "        [0.4268, 0.4943, 0.0353],\n",
            "        [0.3849, 0.6917, 0.1627],\n",
            "        [0.8227, 0.3368, 0.3558],\n",
            "        [0.1746, 0.3258, 0.4497]])\n",
            "KERAS VERSION: 2.15.0\n"
          ]
        }
      ]
    },
    {
      "cell_type": "code",
      "source": [
        "# GET SYSTEM INFO\n",
        "# code modified from: https://stackoverflow.com/questions/110362/how-can-i-find-the-current-os-in-python\n",
        "\n",
        "import platform\n",
        "import multiprocessing\n",
        "import sys\n",
        "import psutil\n",
        "\n",
        "def linux_distribution():\n",
        "  try:\n",
        "    return platform.linux_distribution()\n",
        "  except:\n",
        "    return \"N/A\"\n",
        "\n",
        "def dist():\n",
        "  try:\n",
        "    return platform.dist()\n",
        "  except:\n",
        "    return \"N/A\"\n",
        "\n",
        "num_cores=multiprocessing.cpu_count()\n",
        "\n",
        "print(\"\"\"\n",
        "Python version: %s\n",
        "dist: %s\n",
        "num_cores: %s\n",
        "linux_distribution: %s\n",
        "system: %s\n",
        "machine: %s\n",
        "platform: %s\n",
        "uname: %s\n",
        "version: %s\n",
        "RAM: %s\n",
        "\"\"\" % (\n",
        "sys.version.split('\\n'),\n",
        "str(dist()),\n",
        "num_cores,\n",
        "linux_distribution(),\n",
        "platform.system(),\n",
        "platform.machine(),\n",
        "platform.platform(),\n",
        "platform.uname(),\n",
        "platform.version(),\n",
        "psutil.virtual_memory().total*10**(-9.)\n",
        "))\n",
        "\n",
        "# print('GPU name: ', tf.config.experimental.list_physical_devices('GPU'))"
      ],
      "metadata": {
        "colab": {
          "base_uri": "https://localhost:8080/"
        },
        "id": "mS6l_23bnaPI",
        "outputId": "f186ffc9-5aed-4ec1-d6f1-cb39445ac088"
      },
      "execution_count": 2,
      "outputs": [
        {
          "output_type": "stream",
          "name": "stdout",
          "text": [
            "\n",
            "Python version: ['3.10.12 (main, Nov 20 2023, 15:14:05) [GCC 11.4.0]']\n",
            "dist: N/A\n",
            "num_cores: 2\n",
            "linux_distribution: N/A\n",
            "system: Linux\n",
            "machine: x86_64\n",
            "platform: Linux-6.1.85+-x86_64-with-glibc2.35\n",
            "uname: uname_result(system='Linux', node='cf470fd7f88b', release='6.1.85+', version='#1 SMP PREEMPT_DYNAMIC Thu Jun 27 21:05:47 UTC 2024', machine='x86_64')\n",
            "version: #1 SMP PREEMPT_DYNAMIC Thu Jun 27 21:05:47 UTC 2024\n",
            "RAM: 13.60943104\n",
            "\n"
          ]
        }
      ]
    },
    {
      "cell_type": "code",
      "source": [
        "import platform\n",
        "import torch\n",
        "platform.processor"
      ],
      "metadata": {
        "colab": {
          "base_uri": "https://localhost:8080/",
          "height": 187
        },
        "id": "ZTq5O1xHoWdb",
        "outputId": "face50e0-f644-465d-8313-408cd1042e7b"
      },
      "execution_count": 4,
      "outputs": [
        {
          "output_type": "execute_result",
          "data": {
            "text/plain": [
              "<function platform.processor()>"
            ],
            "text/html": [
              "<div style=\"max-width:800px; border: 1px solid var(--colab-border-color);\"><style>\n",
              "      pre.function-repr-contents {\n",
              "        overflow-x: auto;\n",
              "        padding: 8px 12px;\n",
              "        max-height: 500px;\n",
              "      }\n",
              "\n",
              "      pre.function-repr-contents.function-repr-contents-collapsed {\n",
              "        cursor: pointer;\n",
              "        max-height: 100px;\n",
              "      }\n",
              "    </style>\n",
              "    <pre style=\"white-space: initial; background:\n",
              "         var(--colab-secondary-surface-color); padding: 8px 12px;\n",
              "         border-bottom: 1px solid var(--colab-border-color);\"><b>platform.processor</b><br/>def processor()</pre><pre class=\"function-repr-contents function-repr-contents-collapsed\" style=\"\"><a class=\"filepath\" style=\"display:none\" href=\"#\">/usr/lib/python3.10/platform.py</a>Returns the (true) processor name, e.g. &#x27;amdk6&#x27;\n",
              "\n",
              "An empty string is returned if the value cannot be\n",
              "determined. Note that many platforms do not provide this\n",
              "information or simply return the same value as for machine(),\n",
              "e.g.  NetBSD does this.</pre>\n",
              "      <script>\n",
              "      if (google.colab.kernel.accessAllowed && google.colab.files && google.colab.files.view) {\n",
              "        for (const element of document.querySelectorAll('.filepath')) {\n",
              "          element.style.display = 'block'\n",
              "          element.onclick = (event) => {\n",
              "            event.preventDefault();\n",
              "            event.stopPropagation();\n",
              "            google.colab.files.view(element.textContent, 949);\n",
              "          };\n",
              "        }\n",
              "      }\n",
              "      for (const element of document.querySelectorAll('.function-repr-contents')) {\n",
              "        element.onclick = (event) => {\n",
              "          event.preventDefault();\n",
              "          event.stopPropagation();\n",
              "          element.classList.toggle('function-repr-contents-collapsed');\n",
              "        };\n",
              "      }\n",
              "      </script>\n",
              "      </div>"
            ]
          },
          "metadata": {},
          "execution_count": 4
        }
      ]
    },
    {
      "cell_type": "code",
      "source": [
        "print(\"CUDA available:\", torch.cuda.is_available())"
      ],
      "metadata": {
        "colab": {
          "base_uri": "https://localhost:8080/"
        },
        "id": "RFS1z6-XoEbl",
        "outputId": "6ce5a5a9-9ecf-4398-fda6-8d14029dfa6e"
      },
      "execution_count": 6,
      "outputs": [
        {
          "output_type": "stream",
          "name": "stdout",
          "text": [
            "CUDA available: True\n"
          ]
        }
      ]
    },
    {
      "cell_type": "markdown",
      "source": [
        "## Numpy Basics"
      ],
      "metadata": {
        "id": "Y_dOGvdXp5qx"
      }
    },
    {
      "cell_type": "markdown",
      "source": [
        "### Numpy vectors\n",
        "- NumPy vectors refer specifically to a one-dimensional array.\n",
        "- Vectors are a subset of arrays, with their shape defined as (n,), simplifying operations for linear algebra and vector computations."
      ],
      "metadata": {
        "id": "JQwv0NChqyP1"
      }
    },
    {
      "cell_type": "code",
      "source": [
        "import numpy as np\n",
        "\n",
        "# NUMPY VECTOR EXAMPLE\n",
        "x = np.array([1, 2, 3])\n",
        "print(\"VECTOR:\")\n",
        "print(x)\n",
        "print(\"ndim\",x.ndim)\n",
        "print(\"shape\",x.shape)\n",
        "print(\"length\",len(x))"
      ],
      "metadata": {
        "colab": {
          "base_uri": "https://localhost:8080/"
        },
        "id": "3e--8VEGpUd2",
        "outputId": "b0a68b7d-9c81-4691-c634-7745fc51bcf0"
      },
      "execution_count": 7,
      "outputs": [
        {
          "output_type": "stream",
          "name": "stdout",
          "text": [
            "VECTOR:\n",
            "[1 2 3]\n",
            "ndim 1\n",
            "shape (3,)\n",
            "length 3\n"
          ]
        }
      ]
    },
    {
      "cell_type": "markdown",
      "source": [
        "### Numpy arrays\n",
        "A NumPy array is a multi-dimensional data structure capable of holding elements of various types"
      ],
      "metadata": {
        "id": "ObmuT5Evq2Ma"
      }
    },
    {
      "cell_type": "code",
      "source": [
        "# MATRIX\n",
        "print(\"MATRIX:\")\n",
        "A = np.array(\n",
        "    [\n",
        "        [1, 1, 0, 1],\n",
        "        [0, 1, 1, 1],\n",
        "        [1, 0, 1, 1],\n",
        "    ]\n",
        ")\n",
        "print(A)\n",
        "\n",
        "print(\"ATTRIBUTES\")\n",
        "print(A.ndim,\"=\",len(A.shape))\n",
        "print(A.shape)\n",
        "print(A.reshape(2,6))\n",
        "print(A.reshape(1,12))"
      ],
      "metadata": {
        "colab": {
          "base_uri": "https://localhost:8080/"
        },
        "id": "4khdkWDKqJzE",
        "outputId": "cd0527e5-5aa3-46f5-a481-9902a9a886a7"
      },
      "execution_count": 8,
      "outputs": [
        {
          "output_type": "stream",
          "name": "stdout",
          "text": [
            "MATRIX:\n",
            "[[1 1 0 1]\n",
            " [0 1 1 1]\n",
            " [1 0 1 1]]\n",
            "ATTRIBUTES\n",
            "2 = 2\n",
            "(3, 4)\n",
            "[[1 1 0 1 0 1]\n",
            " [1 1 1 0 1 1]]\n",
            "[[1 1 0 1 0 1 1 1 1 0 1 1]]\n"
          ]
        }
      ]
    },
    {
      "cell_type": "markdown",
      "source": [
        "### Transpose"
      ],
      "metadata": {
        "id": "0bAYPcb1rIhB"
      }
    },
    {
      "cell_type": "code",
      "source": [
        "print(\"ORIGINAL:\")\n",
        "print(A)\n",
        "print(\"TRANPOSE:\")\n",
        "print(np.transpose(A))"
      ],
      "metadata": {
        "colab": {
          "base_uri": "https://localhost:8080/"
        },
        "id": "qJnQsAdAqPVE",
        "outputId": "fede9131-52df-4929-f2ed-4d34571f699b"
      },
      "execution_count": 9,
      "outputs": [
        {
          "output_type": "stream",
          "name": "stdout",
          "text": [
            "ORIGINAL:\n",
            "[[1 1 0 1]\n",
            " [0 1 1 1]\n",
            " [1 0 1 1]]\n",
            "TRANPOSE:\n",
            "[[1 0 1]\n",
            " [1 1 0]\n",
            " [0 1 1]\n",
            " [1 1 1]]\n"
          ]
        }
      ]
    },
    {
      "cell_type": "markdown",
      "source": [
        "### Vectors as arrays"
      ],
      "metadata": {
        "id": "1yMG3pIJrL8S"
      }
    },
    {
      "cell_type": "code",
      "source": [
        "# RESHAPE\n",
        "print(\"---------\")\n",
        "x=x.reshape(3,1) # --> equivelent to x = np.array([[1], [2], [3]])\n",
        "\n",
        "print(x)\n",
        "print(\"ndim\",x.ndim)\n",
        "print(\"shape\",x.shape)\n",
        "print(\"length\",len(x))\n",
        "\n",
        "print(\"---------\")\n",
        "print(\"COLUMN VECTOR:\")\n",
        "print(x)\n",
        "print(x.shape)\n",
        "\n",
        "print(\"---------\")\n",
        "print(x.T) # transpose\n",
        "x = np.array([[1, 2, 3]])\n",
        "print(\"ROW VECTOR:\")\n",
        "print(x)\n",
        "print(x.shape)"
      ],
      "metadata": {
        "colab": {
          "base_uri": "https://localhost:8080/"
        },
        "id": "UIeQXLOgqc5u",
        "outputId": "4fcf7c14-ccd8-4ca9-e243-fcb2141e5cba"
      },
      "execution_count": 10,
      "outputs": [
        {
          "output_type": "stream",
          "name": "stdout",
          "text": [
            "---------\n",
            "[[1]\n",
            " [2]\n",
            " [3]]\n",
            "ndim 2\n",
            "shape (3, 1)\n",
            "length 3\n",
            "---------\n",
            "COLUMN VECTOR:\n",
            "[[1]\n",
            " [2]\n",
            " [3]]\n",
            "(3, 1)\n",
            "---------\n",
            "[[1 2 3]]\n",
            "ROW VECTOR:\n",
            "[[1 2 3]]\n",
            "(1, 3)\n"
          ]
        }
      ]
    },
    {
      "cell_type": "markdown",
      "source": [
        "### Tensors\n",
        "A tensor is a multi-dimensional array used in mathematics to represent data of higher dimensions than matrices."
      ],
      "metadata": {
        "id": "orbc8ItOrNpe"
      }
    },
    {
      "cell_type": "code",
      "source": [
        "print(\"TENSOR:\")\n",
        "x = np.array(\n",
        "    [\n",
        "        [\n",
        "            [5.0, 78, 2, 34, 0],\n",
        "            [6, 79, 3, 35, 1],\n",
        "            [7, 80, 4, 36, 2],\n",
        "        ],\n",
        "        [\n",
        "            [5, 78, 2, 34, 0],\n",
        "            [6, 79, 3, 35, 1],\n",
        "            [7, 80, 4, 36, 2],\n",
        "        ],\n",
        "        [\n",
        "            [5, 78, 2, 34, 0],\n",
        "            [6, 79, 3, 35, 1],\n",
        "            [7, 80, 4, 36, 2],\n",
        "        ],\n",
        "    ]\n",
        ")\n",
        "print(x)\n",
        "print(\"ndim\",x.ndim)\n",
        "print(\"shape\",x.shape)\n",
        "print(\"length\",len(x))"
      ],
      "metadata": {
        "colab": {
          "base_uri": "https://localhost:8080/"
        },
        "id": "JGcUFjsYqi_7",
        "outputId": "76065169-870f-4bb7-91aa-46cd6794ea93"
      },
      "execution_count": 11,
      "outputs": [
        {
          "output_type": "stream",
          "name": "stdout",
          "text": [
            "TENSOR:\n",
            "[[[ 5. 78.  2. 34.  0.]\n",
            "  [ 6. 79.  3. 35.  1.]\n",
            "  [ 7. 80.  4. 36.  2.]]\n",
            "\n",
            " [[ 5. 78.  2. 34.  0.]\n",
            "  [ 6. 79.  3. 35.  1.]\n",
            "  [ 7. 80.  4. 36.  2.]]\n",
            "\n",
            " [[ 5. 78.  2. 34.  0.]\n",
            "  [ 6. 79.  3. 35.  1.]\n",
            "  [ 7. 80.  4. 36.  2.]]]\n",
            "ndim 3\n",
            "shape (3, 3, 5)\n",
            "length 3\n"
          ]
        }
      ]
    },
    {
      "cell_type": "markdown",
      "source": [
        "### Common operations"
      ],
      "metadata": {
        "id": "gm_cnePNrbY1"
      }
    },
    {
      "cell_type": "code",
      "source": [
        "\n",
        "xv = np.array([1, 2, 3])           # vector\n",
        "xr = xv.reshape(1,x.shape[0])      # row vector as array\n",
        "xc = xv.reshape(x.shape[0],1)      # column vector as array\n",
        "A = np.array([[1, 1, 0], [0, 1, 1], [1, 0, 1]]) #matrix\n",
        "\n",
        "print(\"xv:\\n\",xv)\n",
        "print(\"xr:\\n\",xr)\n",
        "print(\"xc:\\n\",xc)\n",
        "print(\"A:\\n\",A)"
      ],
      "metadata": {
        "colab": {
          "base_uri": "https://localhost:8080/"
        },
        "id": "gRxMWqXDqneP",
        "outputId": "7adbb64a-e86c-46a5-a505-29890964ceac"
      },
      "execution_count": 12,
      "outputs": [
        {
          "output_type": "stream",
          "name": "stdout",
          "text": [
            "xv:\n",
            " [1 2 3]\n",
            "xr:\n",
            " [[1 2 3]]\n",
            "xc:\n",
            " [[1]\n",
            " [2]\n",
            " [3]]\n",
            "A:\n",
            " [[1 1 0]\n",
            " [0 1 1]\n",
            " [1 0 1]]\n"
          ]
        }
      ]
    },
    {
      "cell_type": "markdown",
      "source": [
        "### Possible additionas"
      ],
      "metadata": {
        "id": "gpxX8rEBrdle"
      }
    },
    {
      "cell_type": "code",
      "source": [
        "print(\"ADDITIONS\")\n",
        "for a in [xv,xr,xc,A]:\n",
        "    for b in [xv,xr,xc,A]:\n",
        "        print(\"----------\")\n",
        "        print(\"a:\",a.shape)\n",
        "        print(a)\n",
        "        print(\"b:\",b.shape)\n",
        "        print(b)\n",
        "        print(\"a+b\")\n",
        "        print(a+b)"
      ],
      "metadata": {
        "colab": {
          "base_uri": "https://localhost:8080/"
        },
        "id": "H0CesHmeqrZO",
        "outputId": "39a7e67c-e45b-468e-8612-2d320a0b454e"
      },
      "execution_count": 13,
      "outputs": [
        {
          "output_type": "stream",
          "name": "stdout",
          "text": [
            "ADDITIONS\n",
            "----------\n",
            "a: (3,)\n",
            "[1 2 3]\n",
            "b: (3,)\n",
            "[1 2 3]\n",
            "a+b\n",
            "[2 4 6]\n",
            "----------\n",
            "a: (3,)\n",
            "[1 2 3]\n",
            "b: (1, 3)\n",
            "[[1 2 3]]\n",
            "a+b\n",
            "[[2 4 6]]\n",
            "----------\n",
            "a: (3,)\n",
            "[1 2 3]\n",
            "b: (3, 1)\n",
            "[[1]\n",
            " [2]\n",
            " [3]]\n",
            "a+b\n",
            "[[2 3 4]\n",
            " [3 4 5]\n",
            " [4 5 6]]\n",
            "----------\n",
            "a: (3,)\n",
            "[1 2 3]\n",
            "b: (3, 3)\n",
            "[[1 1 0]\n",
            " [0 1 1]\n",
            " [1 0 1]]\n",
            "a+b\n",
            "[[2 3 3]\n",
            " [1 3 4]\n",
            " [2 2 4]]\n",
            "----------\n",
            "a: (1, 3)\n",
            "[[1 2 3]]\n",
            "b: (3,)\n",
            "[1 2 3]\n",
            "a+b\n",
            "[[2 4 6]]\n",
            "----------\n",
            "a: (1, 3)\n",
            "[[1 2 3]]\n",
            "b: (1, 3)\n",
            "[[1 2 3]]\n",
            "a+b\n",
            "[[2 4 6]]\n",
            "----------\n",
            "a: (1, 3)\n",
            "[[1 2 3]]\n",
            "b: (3, 1)\n",
            "[[1]\n",
            " [2]\n",
            " [3]]\n",
            "a+b\n",
            "[[2 3 4]\n",
            " [3 4 5]\n",
            " [4 5 6]]\n",
            "----------\n",
            "a: (1, 3)\n",
            "[[1 2 3]]\n",
            "b: (3, 3)\n",
            "[[1 1 0]\n",
            " [0 1 1]\n",
            " [1 0 1]]\n",
            "a+b\n",
            "[[2 3 3]\n",
            " [1 3 4]\n",
            " [2 2 4]]\n",
            "----------\n",
            "a: (3, 1)\n",
            "[[1]\n",
            " [2]\n",
            " [3]]\n",
            "b: (3,)\n",
            "[1 2 3]\n",
            "a+b\n",
            "[[2 3 4]\n",
            " [3 4 5]\n",
            " [4 5 6]]\n",
            "----------\n",
            "a: (3, 1)\n",
            "[[1]\n",
            " [2]\n",
            " [3]]\n",
            "b: (1, 3)\n",
            "[[1 2 3]]\n",
            "a+b\n",
            "[[2 3 4]\n",
            " [3 4 5]\n",
            " [4 5 6]]\n",
            "----------\n",
            "a: (3, 1)\n",
            "[[1]\n",
            " [2]\n",
            " [3]]\n",
            "b: (3, 1)\n",
            "[[1]\n",
            " [2]\n",
            " [3]]\n",
            "a+b\n",
            "[[2]\n",
            " [4]\n",
            " [6]]\n",
            "----------\n",
            "a: (3, 1)\n",
            "[[1]\n",
            " [2]\n",
            " [3]]\n",
            "b: (3, 3)\n",
            "[[1 1 0]\n",
            " [0 1 1]\n",
            " [1 0 1]]\n",
            "a+b\n",
            "[[2 2 1]\n",
            " [2 3 3]\n",
            " [4 3 4]]\n",
            "----------\n",
            "a: (3, 3)\n",
            "[[1 1 0]\n",
            " [0 1 1]\n",
            " [1 0 1]]\n",
            "b: (3,)\n",
            "[1 2 3]\n",
            "a+b\n",
            "[[2 3 3]\n",
            " [1 3 4]\n",
            " [2 2 4]]\n",
            "----------\n",
            "a: (3, 3)\n",
            "[[1 1 0]\n",
            " [0 1 1]\n",
            " [1 0 1]]\n",
            "b: (1, 3)\n",
            "[[1 2 3]]\n",
            "a+b\n",
            "[[2 3 3]\n",
            " [1 3 4]\n",
            " [2 2 4]]\n",
            "----------\n",
            "a: (3, 3)\n",
            "[[1 1 0]\n",
            " [0 1 1]\n",
            " [1 0 1]]\n",
            "b: (3, 1)\n",
            "[[1]\n",
            " [2]\n",
            " [3]]\n",
            "a+b\n",
            "[[2 2 1]\n",
            " [2 3 3]\n",
            " [4 3 4]]\n",
            "----------\n",
            "a: (3, 3)\n",
            "[[1 1 0]\n",
            " [0 1 1]\n",
            " [1 0 1]]\n",
            "b: (3, 3)\n",
            "[[1 1 0]\n",
            " [0 1 1]\n",
            " [1 0 1]]\n",
            "a+b\n",
            "[[2 2 0]\n",
            " [0 2 2]\n",
            " [2 0 2]]\n"
          ]
        }
      ]
    }
  ]
}