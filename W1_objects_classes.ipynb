{
  "cells": [
    {
      "cell_type": "markdown",
      "metadata": {
        "id": "view-in-github",
        "colab_type": "text"
      },
      "source": [
        "<a href=\"https://colab.research.google.com/github/Oliz888/Deep-Learning/blob/main/W1_objects_classes.ipynb\" target=\"_parent\"><img src=\"https://colab.research.google.com/assets/colab-badge.svg\" alt=\"Open In Colab\"/></a>"
      ]
    },
    {
      "cell_type": "code",
      "execution_count": 1,
      "metadata": {
        "id": "cell-9"
      },
      "outputs": [],
      "source": [
        "#Source: modified from https://docs.python.org/3/tutorial/classes.html\n",
        "\n",
        "#REMEMBER\n",
        "#AND OBJECT IS A SPECIFIC INSTANCE OF A CLASS\n",
        "#THE CLASS ITSELF IS A TEMPLATE FOR OBJECTS\n",
        "class Dog:\n",
        "\n",
        "    # class variable shared by all instances\n",
        "    kind = 'canine'\n",
        "\n",
        "    #INITIALIZE\n",
        "    def __init__(self, attributions):\n",
        "        self.name = attributions[0]      # instance variable unique to each instance\n",
        "        self.weight = attributions[1]\n",
        "        self.possesions=[]               #initial as empty, fill later\n",
        "\n",
        "    def increase_weight(self,dw=1):\n",
        "        self.weight+=dw"
      ],
      "id": "cell-9"
    },
    {
      "cell_type": "markdown",
      "metadata": {
        "id": "e21b7a0c-1bce-4934-97be-7b8d3110af13"
      },
      "source": [
        "# Objects and Classes\n",
        "\n",
        "## Overview\n",
        "\n",
        "-   Understanding the concept of “classes and objects” is fundamental to\n",
        "    python.\n",
        "-   This is because Python is an object oriented programming (OOP)\n",
        "    language.\n",
        "-   Which means that EVERYTHING in python is an object (of some python\n",
        "    class).\n",
        "-   We will not cover building python classes in detail, however, we\n",
        "    will introduce objects and classes here conceptually.\n",
        "\n",
        "**Motivation**\n",
        "\n",
        "**Question**: Why are we covering this in a deep learning class?\n",
        "\n",
        "**Answers**:\n",
        "\n",
        "-   `PyTorch` is a highly object oriented library, and we will be using\n",
        "    it extensively, so reviewing the fundamentals will be helpful.\n",
        "-   Understanding classes and objects will generally make you a better\n",
        "    programmer\n",
        "-   Many data science jobs have object oriented programming “OOP” in the\n",
        "    description, it is important to “check that box”\n",
        "\n",
        "## What are classes?\n",
        "\n",
        "-   **Classes are “blue prints” or “templates” for building customizable\n",
        "    data-structures**\n",
        "    -   Think of them as “customizable” boxes that can;\n",
        "        -   1.  store **data** in what are known as “**attributes** of\n",
        "                the class”\n",
        "\n",
        "            -   These are analogous to how Dictionaries have keys and\n",
        "                values\n",
        "\n",
        "        -   1.  preform actions using special **functions**, which are\n",
        "                known as “**methods** of the class”.\n",
        "-   For example, if you wanted to build a custom data-structure to\n",
        "    describe “animals” for a biology project.\n",
        "    -   You could create a python class called “animal” to store\n",
        "        information about the different animals in the study.\n",
        "    -   This class would be a “**template**” for define objects (see\n",
        "        below) of the class “animal”, for example\n",
        "    -   **Attributes** of class “animal”\n",
        "        -   name\n",
        "        -   species\n",
        "    -   **Methods** of class animal\n",
        "        -   update_name(new_name) –\\> name=new_name  \n",
        "        -   i.e. change the animal’s name with this method  \n",
        "-   **Summary**: `Classes are \"empty templates\" for defining objects`\n",
        "\n",
        "## What are objects?\n",
        "\n",
        "-   **Objects are a particular instance of a class (i.e. a **populated\n",
        "    template\\*\\* of that class)\\*\\*\n",
        "    -   For example;\n",
        "        -   object_1: the first instance of class “animal”\n",
        "            -   object_1 attributes\n",
        "                -   name=“luna”\n",
        "                -   species=“dog”\n",
        "        -   object_2: the second instance of class “animal”\n",
        "            -   object_2 attributes\n",
        "                -   name=“jack”\n",
        "                -   species=“cat”\n",
        "        -   You can think of the “attributes” as metadata associated\n",
        "            with the various objects\n",
        "        -   Also **both objects** would have access to the “update_name”\n",
        "            method, which could be used at any time to change their\n",
        "            name.\n",
        "-   **Summary:**\n",
        "    `Objects are \"populated templates\" (instances) of a particular class`\n",
        "\n",
        "## Dot notation\n",
        "\n",
        "-   **In python attributes and methods of an object are accessed using\n",
        "    “.” at the end**\n",
        "    -   In the case of the previous example;\n",
        "        -   print(object_1.name) –\\> “luna”\n",
        "        -   print(object_1.species) –\\> “dog”\n",
        "        -   object_1.update_name(“stinky”)\n",
        "        -   print(object_1.name) –\\> “stinky”\n",
        "\n",
        "## Sub-classes\n",
        "\n",
        "In object-oriented programming, a sub-class:\n",
        "\n",
        "-   Is a derived or child class of some parent class.\n",
        "-   Inherits attributes and behaviors from a parent or base class.\n",
        "-   Can override or extend parent class methods.\n",
        "-   Supports polymorphism and code reusability.\n",
        "-   Forms an “is-a” relationship with the parent class.\n",
        "\n",
        "![](attachment:images/2023-08-15-18-12-50.png)\n",
        "\n",
        "## Static methods\n",
        "\n",
        "-   Sometimes it is useful to include a method that does a task, but\n",
        "    doesn’t act on `self`\n",
        "    -   Similar to a regular python function\n",
        "    -   Static methods are utility methods, included in the class for\n",
        "        logical relevance.\n",
        "-   Static methods lack an implicit first argument (typically named\n",
        "    `self`).\n",
        "-   They are class-bound, not object-bound.\n",
        "-   They cannot access or modify class attributes.\n",
        "\n",
        "<!-- -->\n",
        "\n",
        "    class C(object):\n",
        "        @staticmethod\n",
        "        def fun(arg1, arg2, ...):\n",
        "            ...\n",
        "            returns: a static method for function fun.\n",
        "\n",
        "<sup> Source:\n",
        "<https://www.geeksforgeeks.org/class-method-vs-static-method-python/>\n",
        "</sup>\n",
        "\n",
        "# Code-example: A simple class\n",
        "\n",
        "## Define the class"
      ],
      "id": "e21b7a0c-1bce-4934-97be-7b8d3110af13"
    },
    {
      "cell_type": "markdown",
      "metadata": {
        "id": "3be94924-fa34-4fac-a825-f32607b1c2df"
      },
      "source": [
        "## Define objects and explore"
      ],
      "id": "3be94924-fa34-4fac-a825-f32607b1c2df"
    },
    {
      "cell_type": "code",
      "execution_count": 2,
      "metadata": {
        "colab": {
          "base_uri": "https://localhost:8080/"
        },
        "id": "cell-11",
        "outputId": "f90b4e31-eb7c-47d4-c546-e79aaf00941c"
      },
      "outputs": [
        {
          "output_type": "stream",
          "name": "stdout",
          "text": [
            "#-----------------------\n",
            "Luna 40 canine\n",
            "Spark 50 canine\n",
            "#-----------------------\n",
            "Luna 41 canine\n",
            "Luna 46 canine\n",
            "#-----------------------\n",
            "Spark 50 canine []\n",
            "Spark 50 canine ['collar', 'leash', 'bowl']\n",
            "Spark 50 canine ['collar', 'leash', 'bowl', 'dog food']\n"
          ]
        }
      ],
      "source": [
        "#INITIALIZE TWO OBJECTS OF CLASS DOG\n",
        "L = Dog(['Luna' ,40])\n",
        "S = Dog(['Spark',50])\n",
        "\n",
        "#SEE INITIAL ATTRIBUTES\n",
        "print(\"#-----------------------\")\n",
        "print(L.name, L.weight, L.kind)\n",
        "print(S.name, S.weight, S.kind)\n",
        "\n",
        "#RUN THE increase_weight() METHOD\n",
        "print(\"#-----------------------\")\n",
        "L.increase_weight()\n",
        "print(L.name, L.weight, L.kind)\n",
        "L.increase_weight(5)\n",
        "print(L.name, L.weight, L.kind)\n",
        "\n",
        "#POPULATE POSSSESSION\n",
        "print(\"#-----------------------\")\n",
        "print(S.name, S.weight, S.kind,S.possesions)\n",
        "S.possesions=['collar','leash','bowl']\n",
        "print(S.name, S.weight, S.kind,S.possesions)\n",
        "S.possesions.append('dog food')\n",
        "print(S.name, S.weight, S.kind,S.possesions)"
      ],
      "id": "cell-11"
    },
    {
      "cell_type": "markdown",
      "metadata": {
        "id": "062e2ecc-a250-48b6-8b9f-e6a26b149a19"
      },
      "source": [
        "## Define a sub-class"
      ],
      "id": "062e2ecc-a250-48b6-8b9f-e6a26b149a19"
    },
    {
      "cell_type": "code",
      "execution_count": 3,
      "metadata": {
        "colab": {
          "base_uri": "https://localhost:8080/"
        },
        "id": "cell-13",
        "outputId": "cfc8107d-61e1-4a80-a589-659eeaa4594a"
      },
      "outputs": [
        {
          "output_type": "stream",
          "name": "stdout",
          "text": [
            "Bo 15 canine [] small H= 1\n"
          ]
        }
      ],
      "source": [
        "#SUBCLASS: NOTICE IT INHERITS ATTRIBUTIONS OF CLASS Dog\n",
        "class SmallDog(Dog):\n",
        "    size=\"small\"\n",
        "\n",
        "    # provides new attributions\n",
        "    # but does not break __init__()\n",
        "    def update(self, H):\n",
        "        self.height=H\n",
        "\n",
        "B = SmallDog(['Bo' ,15])\n",
        "B.update(1)\n",
        "\n",
        "# EXPLORE\n",
        "print(B.name, B.weight, B.kind, B.possesions,B.size,\"H=\",B.height)\n"
      ],
      "id": "cell-13"
    }
  ],
  "nbformat": 4,
  "nbformat_minor": 5,
  "metadata": {
    "kernelspec": {
      "name": "python3",
      "display_name": "Python 3.10.4 (‘ANLY590’)",
      "language": "python"
    },
    "language_info": {
      "name": "python",
      "codemirror_mode": {
        "name": "ipython",
        "version": "3"
      },
      "file_extension": ".py",
      "mimetype": "text/x-python",
      "nbconvert_exporter": "python",
      "pygments_lexer": "ipython3",
      "version": "3.9.12"
    },
    "vscode": {
      "interpreter": {
        "hash": "2b6082c1c9eef3a910163f232074f2e179e34ed8469dd2c24c723d1290ad549e"
      }
    },
    "colab": {
      "provenance": [],
      "include_colab_link": true
    }
  }
}